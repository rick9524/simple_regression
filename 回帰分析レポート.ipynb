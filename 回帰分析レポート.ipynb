{
 "cells": [
  {
   "cell_type": "markdown",
   "metadata": {},
   "source": [
    "## 問題設定\n",
    "日本人女性は、世界で一番睡眠時間が短いと言われている。  \n",
    "そんな国において男性の睡眠時間はどうなっているのだろうか。  \n",
    "そこで、男性の睡眠時間と女性の睡眠時間の関係を検証したい。  \n",
    "つまり、男性の睡眠時間を女性の睡眠時間によって説明したい。"
   ]
  },
  {
   "cell_type": "code",
   "execution_count": 36,
   "metadata": {},
   "outputs": [],
   "source": [
    "import numpy as np\n",
    "import pandas as pd\n",
    "import matplotlib.pyplot as plt\n",
    "from scipy.stats import pearsonr\n",
    "import statsmodels.api as sm\n",
    "from scipy.stats import probplot\n",
    "from statsmodels.tools.eval_measures import rmse"
   ]
  },
  {
   "cell_type": "code",
   "execution_count": 2,
   "metadata": {},
   "outputs": [],
   "source": [
    "df = pd.read_csv('sleeptime.csv')"
   ]
  },
  {
   "cell_type": "code",
   "execution_count": 3,
   "metadata": {},
   "outputs": [
    {
     "data": {
      "text/html": [
       "<div>\n",
       "<style scoped>\n",
       "    .dataframe tbody tr th:only-of-type {\n",
       "        vertical-align: middle;\n",
       "    }\n",
       "\n",
       "    .dataframe tbody tr th {\n",
       "        vertical-align: top;\n",
       "    }\n",
       "\n",
       "    .dataframe thead th {\n",
       "        text-align: right;\n",
       "    }\n",
       "</style>\n",
       "<table border=\"1\" class=\"dataframe\">\n",
       "  <thead>\n",
       "    <tr style=\"text-align: right;\">\n",
       "      <th></th>\n",
       "      <th>都道府県</th>\n",
       "      <th>男</th>\n",
       "      <th>女</th>\n",
       "    </tr>\n",
       "  </thead>\n",
       "  <tbody>\n",
       "    <tr>\n",
       "      <th>0</th>\n",
       "      <td>北海道</td>\n",
       "      <td>475</td>\n",
       "      <td>467</td>\n",
       "    </tr>\n",
       "    <tr>\n",
       "      <th>1</th>\n",
       "      <td>青森県</td>\n",
       "      <td>488</td>\n",
       "      <td>472</td>\n",
       "    </tr>\n",
       "    <tr>\n",
       "      <th>2</th>\n",
       "      <td>岩手県</td>\n",
       "      <td>478</td>\n",
       "      <td>471</td>\n",
       "    </tr>\n",
       "    <tr>\n",
       "      <th>3</th>\n",
       "      <td>宮城県</td>\n",
       "      <td>470</td>\n",
       "      <td>463</td>\n",
       "    </tr>\n",
       "    <tr>\n",
       "      <th>4</th>\n",
       "      <td>秋田県</td>\n",
       "      <td>488</td>\n",
       "      <td>477</td>\n",
       "    </tr>\n",
       "  </tbody>\n",
       "</table>\n",
       "</div>"
      ],
      "text/plain": [
       "  都道府県    男    女\n",
       "0  北海道  475  467\n",
       "1  青森県  488  472\n",
       "2  岩手県  478  471\n",
       "3  宮城県  470  463\n",
       "4  秋田県  488  477"
      ]
     },
     "execution_count": 3,
     "metadata": {},
     "output_type": "execute_result"
    }
   ],
   "source": [
    "df.head()"
   ]
  },
  {
   "cell_type": "code",
   "execution_count": 4,
   "metadata": {},
   "outputs": [
    {
     "data": {
      "text/html": [
       "<div>\n",
       "<style scoped>\n",
       "    .dataframe tbody tr th:only-of-type {\n",
       "        vertical-align: middle;\n",
       "    }\n",
       "\n",
       "    .dataframe tbody tr th {\n",
       "        vertical-align: top;\n",
       "    }\n",
       "\n",
       "    .dataframe thead th {\n",
       "        text-align: right;\n",
       "    }\n",
       "</style>\n",
       "<table border=\"1\" class=\"dataframe\">\n",
       "  <thead>\n",
       "    <tr style=\"text-align: right;\">\n",
       "      <th></th>\n",
       "      <th>男</th>\n",
       "      <th>女</th>\n",
       "    </tr>\n",
       "  </thead>\n",
       "  <tbody>\n",
       "    <tr>\n",
       "      <th>count</th>\n",
       "      <td>47.000000</td>\n",
       "      <td>47.000000</td>\n",
       "    </tr>\n",
       "    <tr>\n",
       "      <th>mean</th>\n",
       "      <td>470.127660</td>\n",
       "      <td>457.340426</td>\n",
       "    </tr>\n",
       "    <tr>\n",
       "      <th>std</th>\n",
       "      <td>7.634638</td>\n",
       "      <td>7.047283</td>\n",
       "    </tr>\n",
       "    <tr>\n",
       "      <th>min</th>\n",
       "      <td>454.000000</td>\n",
       "      <td>448.000000</td>\n",
       "    </tr>\n",
       "    <tr>\n",
       "      <th>25%</th>\n",
       "      <td>466.500000</td>\n",
       "      <td>452.000000</td>\n",
       "    </tr>\n",
       "    <tr>\n",
       "      <th>50%</th>\n",
       "      <td>470.000000</td>\n",
       "      <td>455.000000</td>\n",
       "    </tr>\n",
       "    <tr>\n",
       "      <th>75%</th>\n",
       "      <td>475.000000</td>\n",
       "      <td>460.500000</td>\n",
       "    </tr>\n",
       "    <tr>\n",
       "      <th>max</th>\n",
       "      <td>488.000000</td>\n",
       "      <td>477.000000</td>\n",
       "    </tr>\n",
       "  </tbody>\n",
       "</table>\n",
       "</div>"
      ],
      "text/plain": [
       "                男           女\n",
       "count   47.000000   47.000000\n",
       "mean   470.127660  457.340426\n",
       "std      7.634638    7.047283\n",
       "min    454.000000  448.000000\n",
       "25%    466.500000  452.000000\n",
       "50%    470.000000  455.000000\n",
       "75%    475.000000  460.500000\n",
       "max    488.000000  477.000000"
      ]
     },
     "execution_count": 4,
     "metadata": {},
     "output_type": "execute_result"
    }
   ],
   "source": [
    "df[['男','女']].describe()"
   ]
  },
  {
   "cell_type": "code",
   "execution_count": 5,
   "metadata": {},
   "outputs": [],
   "source": [
    "y = df['男']\n",
    "x = df['女']"
   ]
  },
  {
   "cell_type": "code",
   "execution_count": 6,
   "metadata": {},
   "outputs": [
    {
     "data": {
      "text/plain": [
       "<matplotlib.collections.PathCollection at 0x19da6ad9a30>"
      ]
     },
     "execution_count": 6,
     "metadata": {},
     "output_type": "execute_result"
    },
    {
     "data": {
      "image/png": "[encoded data removed]",
      "text/plain": [
       "<Figure size 640x480 with 1 Axes>"
      ]
     },
     "metadata": {},
     "output_type": "display_data"
    }
   ],
   "source": [
    "plt.scatter(x, y)"
   ]
  },
  {
   "cell_type": "markdown",
   "metadata": {},
   "source": [
    "一見して、極端な外れ値や１つの説明変数で目的変数の取りうる値が複数ないので、  \n",
    "このデータは回帰分析可能であると思われる。"
   ]
  },
  {
   "cell_type": "code",
   "execution_count": 7,
   "metadata": {},
   "outputs": [],
   "source": [
    "p_s = 0.05"
   ]
  },
  {
   "cell_type": "code",
   "execution_count": 8,
   "metadata": {},
   "outputs": [],
   "source": [
    "r, p = pearsonr(x,y)"
   ]
  },
  {
   "cell_type": "code",
   "execution_count": 9,
   "metadata": {},
   "outputs": [
    {
     "data": {
      "text/plain": [
       "3.564184721648239e-13"
      ]
     },
     "execution_count": 9,
     "metadata": {},
     "output_type": "execute_result"
    }
   ],
   "source": [
    "p"
   ]
  },
  {
   "cell_type": "code",
   "execution_count": 10,
   "metadata": {},
   "outputs": [
    {
     "name": "stdout",
     "output_type": "stream",
     "text": [
      "x と y には相関があり、相関係数は0.8335であった。\n"
     ]
    }
   ],
   "source": [
    "if p < p_s:\n",
    "    print(f'x と y には相関があり、相関係数は{r:.4f}であった。')\n",
    "else:\n",
    "    print(f'x と y には相関がない可能性を排除できなかった')"
   ]
  },
  {
   "cell_type": "code",
   "execution_count": 11,
   "metadata": {},
   "outputs": [
    {
     "data": {
      "image/png": "[encoded data removed]",
      "text/plain": [
       "<Figure size 640x480 with 1 Axes>"
      ]
     },
     "metadata": {},
     "output_type": "display_data"
    }
   ],
   "source": [
    "plt.scatter(x,y,alpha=0.5)\n",
    "plt.xlim(xmin=0,xmax=1000)\n",
    "plt.ylim(ymin=0,ymax=1000)\n",
    "plt.show()"
   ]
  },
  {
   "cell_type": "code",
   "execution_count": 12,
   "metadata": {},
   "outputs": [],
   "source": [
    "beta_0 =12.8\n",
    "beta_1 = 1"
   ]
  },
  {
   "cell_type": "code",
   "execution_count": 13,
   "metadata": {},
   "outputs": [
    {
     "data": {
      "image/png": "[encoded data removed]",
      "text/plain": [
       "<Figure size 640x480 with 1 Axes>"
      ]
     },
     "metadata": {},
     "output_type": "display_data"
    }
   ],
   "source": [
    "y_est = beta_0 + beta_1 * x\n",
    "plt.scatter(x,y,alpha=0.5)\n",
    "plt.plot(x,y_est,c='r')\n",
    "plt.show()"
   ]
  },
  {
   "cell_type": "code",
   "execution_count": 14,
   "metadata": {},
   "outputs": [
    {
     "data": {
      "image/png": "[encoded data removed]",
      "text/plain": [
       "<Figure size 640x480 with 1 Axes>"
      ]
     },
     "metadata": {},
     "output_type": "display_data"
    }
   ],
   "source": [
    "resid = y_est - y\n",
    "plt.scatter(x,resid,alpha=0.5)\n",
    "plt.show()"
   ]
  },
  {
   "cell_type": "code",
   "execution_count": 15,
   "metadata": {},
   "outputs": [
    {
     "data": {
      "text/plain": [
       "839.8799999999997"
      ]
     },
     "execution_count": 15,
     "metadata": {},
     "output_type": "execute_result"
    }
   ],
   "source": [
    "np.sum(resid**2)"
   ]
  },
  {
   "cell_type": "code",
   "execution_count": 16,
   "metadata": {},
   "outputs": [],
   "source": [
    "log = {\n",
    "    \"切片\":[100,50,20,19,21,21,19,15,10,12,13,14,12.5,12.75,12.8],\n",
    "    \"傾き\":[0.3,0.5,1,0.9,0.9,1,1,1,1,1,1,1,1,1,1],\n",
    "    \"誤差２乗和\":[2551601,1724019,3285,84229,66987,4010,2654,1070,1205,869,842,909,843.75,839.9375,839.879]\n",
    "    }"
   ]
  },
  {
   "cell_type": "code",
   "execution_count": 17,
   "metadata": {},
   "outputs": [
    {
     "data": {
      "text/html": [
       "<div>\n",
       "<style scoped>\n",
       "    .dataframe tbody tr th:only-of-type {\n",
       "        vertical-align: middle;\n",
       "    }\n",
       "\n",
       "    .dataframe tbody tr th {\n",
       "        vertical-align: top;\n",
       "    }\n",
       "\n",
       "    .dataframe thead th {\n",
       "        text-align: right;\n",
       "    }\n",
       "</style>\n",
       "<table border=\"1\" class=\"dataframe\">\n",
       "  <thead>\n",
       "    <tr style=\"text-align: right;\">\n",
       "      <th></th>\n",
       "      <th>切片</th>\n",
       "      <th>傾き</th>\n",
       "      <th>誤差２乗和</th>\n",
       "    </tr>\n",
       "  </thead>\n",
       "  <tbody>\n",
       "    <tr>\n",
       "      <th>0</th>\n",
       "      <td>100.00</td>\n",
       "      <td>0.3</td>\n",
       "      <td>2.551601e+06</td>\n",
       "    </tr>\n",
       "    <tr>\n",
       "      <th>1</th>\n",
       "      <td>50.00</td>\n",
       "      <td>0.5</td>\n",
       "      <td>1.724019e+06</td>\n",
       "    </tr>\n",
       "    <tr>\n",
       "      <th>2</th>\n",
       "      <td>20.00</td>\n",
       "      <td>1.0</td>\n",
       "      <td>3.285000e+03</td>\n",
       "    </tr>\n",
       "    <tr>\n",
       "      <th>3</th>\n",
       "      <td>19.00</td>\n",
       "      <td>0.9</td>\n",
       "      <td>8.422900e+04</td>\n",
       "    </tr>\n",
       "    <tr>\n",
       "      <th>4</th>\n",
       "      <td>21.00</td>\n",
       "      <td>0.9</td>\n",
       "      <td>6.698700e+04</td>\n",
       "    </tr>\n",
       "    <tr>\n",
       "      <th>5</th>\n",
       "      <td>21.00</td>\n",
       "      <td>1.0</td>\n",
       "      <td>4.010000e+03</td>\n",
       "    </tr>\n",
       "    <tr>\n",
       "      <th>6</th>\n",
       "      <td>19.00</td>\n",
       "      <td>1.0</td>\n",
       "      <td>2.654000e+03</td>\n",
       "    </tr>\n",
       "    <tr>\n",
       "      <th>7</th>\n",
       "      <td>15.00</td>\n",
       "      <td>1.0</td>\n",
       "      <td>1.070000e+03</td>\n",
       "    </tr>\n",
       "    <tr>\n",
       "      <th>8</th>\n",
       "      <td>10.00</td>\n",
       "      <td>1.0</td>\n",
       "      <td>1.205000e+03</td>\n",
       "    </tr>\n",
       "    <tr>\n",
       "      <th>9</th>\n",
       "      <td>12.00</td>\n",
       "      <td>1.0</td>\n",
       "      <td>8.690000e+02</td>\n",
       "    </tr>\n",
       "    <tr>\n",
       "      <th>10</th>\n",
       "      <td>13.00</td>\n",
       "      <td>1.0</td>\n",
       "      <td>8.420000e+02</td>\n",
       "    </tr>\n",
       "    <tr>\n",
       "      <th>11</th>\n",
       "      <td>14.00</td>\n",
       "      <td>1.0</td>\n",
       "      <td>9.090000e+02</td>\n",
       "    </tr>\n",
       "    <tr>\n",
       "      <th>12</th>\n",
       "      <td>12.50</td>\n",
       "      <td>1.0</td>\n",
       "      <td>8.437500e+02</td>\n",
       "    </tr>\n",
       "    <tr>\n",
       "      <th>13</th>\n",
       "      <td>12.75</td>\n",
       "      <td>1.0</td>\n",
       "      <td>8.399375e+02</td>\n",
       "    </tr>\n",
       "    <tr>\n",
       "      <th>14</th>\n",
       "      <td>12.80</td>\n",
       "      <td>1.0</td>\n",
       "      <td>8.398790e+02</td>\n",
       "    </tr>\n",
       "  </tbody>\n",
       "</table>\n",
       "</div>"
      ],
      "text/plain": [
       "        切片   傾き         誤差２乗和\n",
       "0   100.00  0.3  2.551601e+06\n",
       "1    50.00  0.5  1.724019e+06\n",
       "2    20.00  1.0  3.285000e+03\n",
       "3    19.00  0.9  8.422900e+04\n",
       "4    21.00  0.9  6.698700e+04\n",
       "5    21.00  1.0  4.010000e+03\n",
       "6    19.00  1.0  2.654000e+03\n",
       "7    15.00  1.0  1.070000e+03\n",
       "8    10.00  1.0  1.205000e+03\n",
       "9    12.00  1.0  8.690000e+02\n",
       "10   13.00  1.0  8.420000e+02\n",
       "11   14.00  1.0  9.090000e+02\n",
       "12   12.50  1.0  8.437500e+02\n",
       "13   12.75  1.0  8.399375e+02\n",
       "14   12.80  1.0  8.398790e+02"
      ]
     },
     "execution_count": 17,
     "metadata": {},
     "output_type": "execute_result"
    }
   ],
   "source": [
    "log_df = pd.DataFrame(log)\n",
    "log_df"
   ]
  },
  {
   "cell_type": "code",
   "execution_count": 18,
   "metadata": {},
   "outputs": [],
   "source": [
    "X = sm.add_constant(x)\n",
    "model = sm.OLS(y,X)\n",
    "res = model.fit()"
   ]
  },
  {
   "cell_type": "code",
   "execution_count": 19,
   "metadata": {},
   "outputs": [],
   "source": [
    "beta0_est, beta1_est = res.params"
   ]
  },
  {
   "cell_type": "code",
   "execution_count": 20,
   "metadata": {},
   "outputs": [
    {
     "name": "stdout",
     "output_type": "stream",
     "text": [
      "57.14807122767161\n",
      "0.9030025890811575\n"
     ]
    }
   ],
   "source": [
    "print(beta0_est)\n",
    "print(beta1_est)"
   ]
  },
  {
   "cell_type": "code",
   "execution_count": 21,
   "metadata": {},
   "outputs": [],
   "source": [
    "y_est = beta0_est + beta1_est*x\n"
   ]
  },
  {
   "cell_type": "code",
   "execution_count": 22,
   "metadata": {},
   "outputs": [
    {
     "data": {
      "image/png": "[encoded data removed]",
      "text/plain": [
       "<Figure size 640x480 with 1 Axes>"
      ]
     },
     "metadata": {},
     "output_type": "display_data"
    }
   ],
   "source": [
    "plt.scatter(x,y,alpha=0.5)\n",
    "plt.plot(x,y_est,c='r')\n",
    "plt.show()"
   ]
  },
  {
   "cell_type": "code",
   "execution_count": 23,
   "metadata": {},
   "outputs": [],
   "source": [
    "resid = y_est - y"
   ]
  },
  {
   "cell_type": "code",
   "execution_count": 24,
   "metadata": {},
   "outputs": [
    {
     "data": {
      "image/png": "[encoded data removed]",
      "text/plain": [
       "<Figure size 640x480 with 1 Axes>"
      ]
     },
     "metadata": {},
     "output_type": "display_data"
    }
   ],
   "source": [
    "plt.scatter(x,resid,alpha=0.5)\n",
    "plt.show()"
   ]
  },
  {
   "cell_type": "code",
   "execution_count": 25,
   "metadata": {},
   "outputs": [
    {
     "data": {
      "text/plain": [
       "818.3781269208561"
      ]
     },
     "execution_count": 25,
     "metadata": {},
     "output_type": "execute_result"
    }
   ],
   "source": [
    "np.sum(resid**2)"
   ]
  },
  {
   "cell_type": "code",
   "execution_count": 26,
   "metadata": {},
   "outputs": [
    {
     "data": {
      "text/html": [
       "<div>\n",
       "<style scoped>\n",
       "    .dataframe tbody tr th:only-of-type {\n",
       "        vertical-align: middle;\n",
       "    }\n",
       "\n",
       "    .dataframe tbody tr th {\n",
       "        vertical-align: top;\n",
       "    }\n",
       "\n",
       "    .dataframe thead th {\n",
       "        text-align: right;\n",
       "    }\n",
       "</style>\n",
       "<table border=\"1\" class=\"dataframe\">\n",
       "  <thead>\n",
       "    <tr style=\"text-align: right;\">\n",
       "      <th></th>\n",
       "      <th>男</th>\n",
       "      <th>女</th>\n",
       "    </tr>\n",
       "  </thead>\n",
       "  <tbody>\n",
       "    <tr>\n",
       "      <th>count</th>\n",
       "      <td>47.000000</td>\n",
       "      <td>47.000000</td>\n",
       "    </tr>\n",
       "    <tr>\n",
       "      <th>mean</th>\n",
       "      <td>470.127660</td>\n",
       "      <td>457.340426</td>\n",
       "    </tr>\n",
       "    <tr>\n",
       "      <th>std</th>\n",
       "      <td>7.634638</td>\n",
       "      <td>7.047283</td>\n",
       "    </tr>\n",
       "    <tr>\n",
       "      <th>min</th>\n",
       "      <td>454.000000</td>\n",
       "      <td>448.000000</td>\n",
       "    </tr>\n",
       "    <tr>\n",
       "      <th>25%</th>\n",
       "      <td>466.500000</td>\n",
       "      <td>452.000000</td>\n",
       "    </tr>\n",
       "    <tr>\n",
       "      <th>50%</th>\n",
       "      <td>470.000000</td>\n",
       "      <td>455.000000</td>\n",
       "    </tr>\n",
       "    <tr>\n",
       "      <th>75%</th>\n",
       "      <td>475.000000</td>\n",
       "      <td>460.500000</td>\n",
       "    </tr>\n",
       "    <tr>\n",
       "      <th>max</th>\n",
       "      <td>488.000000</td>\n",
       "      <td>477.000000</td>\n",
       "    </tr>\n",
       "  </tbody>\n",
       "</table>\n",
       "</div>"
      ],
      "text/plain": [
       "                男           女\n",
       "count   47.000000   47.000000\n",
       "mean   470.127660  457.340426\n",
       "std      7.634638    7.047283\n",
       "min    454.000000  448.000000\n",
       "25%    466.500000  452.000000\n",
       "50%    470.000000  455.000000\n",
       "75%    475.000000  460.500000\n",
       "max    488.000000  477.000000"
      ]
     },
     "execution_count": 26,
     "metadata": {},
     "output_type": "execute_result"
    }
   ],
   "source": [
    "df.describe()"
   ]
  },
  {
   "cell_type": "code",
   "execution_count": 27,
   "metadata": {},
   "outputs": [
    {
     "name": "stdout",
     "output_type": "stream",
     "text": [
      "                            OLS Regression Results                            \n",
      "==============================================================================\n",
      "Dep. Variable:                      男   R-squared:                       0.695\n",
      "Model:                            OLS   Adj. R-squared:                  0.688\n",
      "Method:                 Least Squares   F-statistic:                     102.4\n",
      "Date:                Fri, 25 Nov 2022   Prob (F-statistic):           3.56e-13\n",
      "Time:                        09:33:20   Log-Likelihood:                -133.83\n",
      "No. Observations:                  47   AIC:                             271.7\n",
      "Df Residuals:                      45   BIC:                             275.4\n",
      "Df Model:                           1                                         \n",
      "Covariance Type:            nonrobust                                         \n",
      "==============================================================================\n",
      "                 coef    std err          t      P>|t|      [0.025      0.975]\n",
      "------------------------------------------------------------------------------\n",
      "const         57.1481     40.809      1.400      0.168     -25.046     139.342\n",
      "女              0.9030      0.089     10.121      0.000       0.723       1.083\n",
      "==============================================================================\n",
      "Omnibus:                        0.639   Durbin-Watson:                   1.256\n",
      "Prob(Omnibus):                  0.727   Jarque-Bera (JB):                0.141\n",
      "Skew:                          -0.076   Prob(JB):                        0.932\n",
      "Kurtosis:                       3.222   Cond. No.                     3.00e+04\n",
      "==============================================================================\n",
      "\n",
      "Notes:\n",
      "[1] Standard Errors assume that the covariance matrix of the errors is correctly specified.\n",
      "[2] The condition number is large,  3e+04. This might indicate that there are\n",
      "strong multicollinearity or other numerical problems.\n"
     ]
    }
   ],
   "source": [
    "print(res.summary())"
   ]
  },
  {
   "cell_type": "markdown",
   "metadata": {},
   "source": [
    "結果  \n",
    "切片の推定値：57.1481  \n",
    "傾きの推定値：0.9030"
   ]
  },
  {
   "cell_type": "markdown",
   "metadata": {},
   "source": [
    "都道府県ごとの男性の睡眠時間の平均(以下、男性の睡眠時間)に対する  \n",
    "都道府県ごとの女性の睡眠時間の平均(以下、女性の睡眠時間)の単回帰係数の推定値は0.9030であった。  \n",
    "すなわち、女性の睡眠時間が1分増加すると男性の睡眠時間は0.9030分増加する。  \n",
    "これは、各都道府県ごとの男女の睡眠時間の平均の変化量に大きな差異はなく、  \n",
    "県ごとの特徴が男女とも同じように表れたからだと思われる。"
   ]
  },
  {
   "cell_type": "markdown",
   "metadata": {},
   "source": [
    "また、切片の推定値は57.1481分であった。  \n",
    "すなわち、女性の睡眠時間が0分である時の男性の睡眠時間は57.1481分であると推定された。  \n",
    "ただし、女性の睡眠時間が448分から477分の範囲のデータであり、  \n",
    "0を含んでいないので、説明変数が0の時の目的変数について解釈することは意味をなさない。  \n",
    "だが、今回の分析において切片の値は、目的変数である男性の睡眠時間が  \n",
    "女性の睡眠時間に比べて平均的に57.1481分長いことを示していると思われる。"
   ]
  },
  {
   "cell_type": "markdown",
   "metadata": {},
   "source": [
    "ただし、上記の議論は女性の睡眠時間が448分から477分の範囲のみで有効である。  \n",
    "また、男性と女性の睡眠時間の関係性は必ずしも因果を説明している訳ではない。  \n",
    "すなわち、男性の睡眠時間を増やすために女性の睡眠時間を操作する事が意味をなさない場合がある。  \n",
    "また、この分析では女性の睡眠時間の他に男性の睡眠時間と関係を持つ要因を一切考慮していない。  \n",
    "すなわち、データに加えられていない何らかの要因によって、  \n",
    "女性の睡眠時間と男性の睡眠時間に疑似的な相関関係が生じている可能性を否定できない。"
   ]
  },
  {
   "cell_type": "markdown",
   "metadata": {},
   "source": [
    "有意水準：5%\n"
   ]
  },
  {
   "cell_type": "markdown",
   "metadata": {},
   "source": [
    "**結果**\n",
    "* 切片のp値\n",
    "  * 0.168\n",
    "  * 5%で有意とは言えない\n",
    "* 切片の95%信頼区間\n",
    "  * [-25.046,139.342]の範囲\n",
    "  * 0を含んでいる\n",
    "* 傾きのp値\n",
    "  * 0.000\n",
    "  * 1%以下で有意\n",
    "* 傾きの95%信頼区間\n",
    "  * [0.723,1.083]の範囲\n",
    "  * 0を含まないので有意"
   ]
  },
  {
   "cell_type": "markdown",
   "metadata": {},
   "source": [
    "## 解釈\n",
    "傾きについてはp値も95%信頼区間も有意な結果を得ることができた。  \n",
    "切片では、p値も95%信頼区間も有意な結果を得られなかった。  \n",
    "理由として考えられることは、この分析のデータがx軸に関して原点より離れた場所に集中的に分布しているので、  \n",
    "推定される直線の傾きがほんの少し変わるだけで切片に大きな変化が生じてしまうからだと考えられる。  "
   ]
  },
  {
   "cell_type": "markdown",
   "metadata": {},
   "source": [
    "都道府県ごとの男性の睡眠時間の平均(以下、男性の睡眠時間)に対する  \n",
    "都道府県ごとの女性の睡眠時間の平均(以下、女性の睡眠時間)の  \n",
    "回帰係数は5%の有意水準で正の値を持つ。  \n",
    "すなわち、女性の睡眠時間は有意に男性の睡眠時間と正の相関を持つ。  \n",
    "また、回帰係数の95%信頼区間は[0.723,1.083]の範囲であり、  \n",
    "この範囲内に傾きの真値が存在すると考えることが整合的である。"
   ]
  },
  {
   "cell_type": "code",
   "execution_count": 33,
   "metadata": {},
   "outputs": [
    {
     "data": {
      "image/png": "[encoded data removed]",
      "text/plain": [
       "<Figure size 640x480 with 1 Axes>"
      ]
     },
     "metadata": {},
     "output_type": "display_data"
    }
   ],
   "source": [
    "resid = y_est - y\n",
    "plt.hist(resid)\n",
    "plt.show()\n",
    "# 誤差のヒストグラム"
   ]
  },
  {
   "cell_type": "code",
   "execution_count": 34,
   "metadata": {},
   "outputs": [
    {
     "data": {
      "image/png": "[encoded data removed]",
      "text/plain": [
       "<Figure size 640x480 with 1 Axes>"
      ]
     },
     "metadata": {},
     "output_type": "display_data"
    }
   ],
   "source": [
    "plt.scatter(y_est, resid)\n",
    "plt.show()\n",
    "# 残差プロット"
   ]
  },
  {
   "cell_type": "code",
   "execution_count": 35,
   "metadata": {},
   "outputs": [
    {
     "data": {
      "image/png": "[encoded data removed]",
      "text/plain": [
       "<Figure size 640x480 with 1 Axes>"
      ]
     },
     "metadata": {},
     "output_type": "display_data"
    }
   ],
   "source": [
    "ax = plt.subplot()\n",
    "probplot(resid, plot=ax)\n",
    "plt.show()\n",
    "# QQプロット"
   ]
  },
  {
   "cell_type": "markdown",
   "metadata": {},
   "source": [
    "残差のヒストグラムを見ると左右非対称であり、１つの山を持つ釣り鐘型の形状をするため、  \n",
    "正規分布に近い形状をしていることが分かる。  \n",
    "残差プロットを見ると目的変数の推定値は残差と無関係であるため、  \n",
    "独立であると言えそうである。  \n",
    "QQプロットを見るとデータ点が直線上に概ね載っているため、  \n",
    "正規分布に近い形状をしていることが分かる。  \n",
    "以上の事から、今回の回帰分析モデルは誤差が独立な正規分布から発生しているという前提を満たすと判断される。"
   ]
  },
  {
   "cell_type": "markdown",
   "metadata": {},
   "source": [
    "**結果**\n",
    "\n",
    "* 決定係数  \n",
    "  * 0.695\n",
    "* F検定のp値  \n",
    "  * 3.56 e-13\n",
    "* AIC  \n",
    "  * 271.7"
   ]
  },
  {
   "cell_type": "code",
   "execution_count": 42,
   "metadata": {},
   "outputs": [
    {
     "data": {
      "text/plain": [
       "4.172804880746783"
      ]
     },
     "execution_count": 42,
     "metadata": {},
     "output_type": "execute_result"
    }
   ],
   "source": [
    "# RMSE\n",
    "rmse(y, y_est)"
   ]
  },
  {
   "cell_type": "markdown",
   "metadata": {},
   "source": [
    "RMSEは4.173分であり、目的変数の推定値は真値に比べ平均的に4.173分程度差がある。  \n",
    "決定係数は0.695であり、モデルによる目的変数の推定値によって、  \n",
    "単純に目的変数を平均値で推定することに比べて、変動が69.5%小さくなる。  \n",
    "F検定のp値は$3.56×10^{-13}$であり、有意水準5%で  \n",
    "回帰係数はすべて0である(帰無仮説)は棄却され、  \n",
    "回帰係数は少なくとも1つは0ではない(対立仮説)を採択するため、  \n",
    "回帰分析モデルがデータに適合していると言える。  \n",
    "また、AICは271.7であった。"
   ]
  }
 ],
 "metadata": {
  "kernelspec": {
   "display_name": "Python 3.9.7 ('base')",
   "language": "python",
   "name": "python3"
  },
  "language_info": {
   "codemirror_mode": {
    "name": "ipython",
    "version": 3
   },
   "file_extension": ".py",
   "mimetype": "text/x-python",
   "name": "python",
   "nbconvert_exporter": "python",
   "pygments_lexer": "ipython3",
   "version": "3.9.15"
  },
  "orig_nbformat": 4,
  "vscode": {
   "interpreter": {
    "hash": "5781dd828d17d04f68f2aa82c0b0ff6a51cb9efd7b800caaa05e183a6e5d7925"
   }
  }
 },
 "nbformat": 4,
 "nbformat_minor": 2
}
