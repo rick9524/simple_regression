{
 "cells": [
  {
   "cell_type": "code",
   "execution_count": null,
   "metadata": {},
   "outputs": [],
   "source": []
  }
 ],
 "metadata": {
  "kernelspec": {
   "display_name": "Python 3.9.7 ('base')",
   "language": "python",
   "name": "python3"
  },
  "language_info": {
   "name": "python",
   "version": "3.9.7"
  },
  "orig_nbformat": 4,
  "vscode": {
   "interpreter": {
    "hash": "5781dd828d17d04f68f2aa82c0b0ff6a51cb9efd7b800caaa05e183a6e5d7925"
   }
  }
 },
 "nbformat": 4,
 "nbformat_minor": 2
}
